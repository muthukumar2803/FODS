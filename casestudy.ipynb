{
 "cells": [
  {
   "cell_type": "code",
   "execution_count": 116,
   "id": "21593583-7b10-4602-b10f-36c756a81713",
   "metadata": {},
   "outputs": [],
   "source": [
    "import pandas as pd"
   ]
  },
  {
   "cell_type": "code",
   "execution_count": 117,
   "id": "347f8e29-ca9e-4b00-bca2-1c78f03005de",
   "metadata": {},
   "outputs": [],
   "source": [
    "df =pd.read_csv('payroll_dataset.csv')"
   ]
  },
  {
   "cell_type": "code",
   "execution_count": 118,
   "id": "fb07b2cc-75f2-45c3-94ed-7cae26478200",
   "metadata": {},
   "outputs": [
    {
     "data": {
      "text/plain": [
       "EmployeeID      0\n",
       "Name            0\n",
       "DepartmentID    0\n",
       "Salary          0\n",
       "HireDate        0\n",
       "Location        0\n",
       "dtype: int64"
      ]
     },
     "execution_count": 118,
     "metadata": {},
     "output_type": "execute_result"
    }
   ],
   "source": [
    "df.isnull().sum()"
   ]
  },
  {
   "cell_type": "code",
   "execution_count": 119,
   "id": "9f1b6bc7-39fd-4d10-b1f6-07018dcb48d5",
   "metadata": {},
   "outputs": [],
   "source": [
    "employee_df=pd.DataFrame(df)"
   ]
  },
  {
   "cell_type": "code",
   "execution_count": 120,
   "id": "1dda7677-0443-428e-8c00-4b1b85677d82",
   "metadata": {},
   "outputs": [],
   "source": [
    "department_df=pd.DataFrame(df)"
   ]
  },
  {
   "cell_type": "code",
   "execution_count": 121,
   "id": "51a4f03c-fdaf-4741-b557-319d51fd7fbe",
   "metadata": {},
   "outputs": [],
   "source": [
    "merged_df=pd.merge(employee_df, department_df, on ='DepartmentID',how ='left')"
   ]
  },
  {
   "cell_type": "code",
   "execution_count": 122,
   "id": "f0c1177b-1429-493c-ac1f-c160ab799791",
   "metadata": {},
   "outputs": [
    {
     "name": "stdout",
     "output_type": "stream",
     "text": [
      "   EmployeeID_x      Name_x DepartmentID  Salary_x  HireDate_x Location_x  \\\n",
      "0             1  Employee 1         D001      6000  2020-01-31   New York   \n",
      "1             1  Employee 1         D001      6000  2020-01-31   New York   \n",
      "2             1  Employee 1         D001      6000  2020-01-31   New York   \n",
      "3             1  Employee 1         D001      6000  2020-01-31   New York   \n",
      "4             1  Employee 1         D001      6000  2020-01-31   New York   \n",
      "\n",
      "   EmployeeID_y       Name_y  Salary_y  HireDate_y Location_y  \n",
      "0             1   Employee 1      6000  2020-01-31   New York  \n",
      "1             5   Employee 5      6400  2020-05-31   New York  \n",
      "2             9   Employee 9      6800  2020-09-30   New York  \n",
      "3            13  Employee 13      7200  2021-01-31   New York  \n",
      "4            17  Employee 17      7600  2021-05-31   New York  \n"
     ]
    }
   ],
   "source": [
    "print(merged_df.head())"
   ]
  },
  {
   "cell_type": "raw",
   "id": "65476af5-8e35-42ca-99e7-62df8e0effe6",
   "metadata": {},
   "source": [
    "merged_df.drop_duplicates(subset ='EmployeeID',inplace=True)"
   ]
  },
  {
   "cell_type": "code",
   "execution_count": 123,
   "id": "d2e2dc50-28ce-49fc-9c9f-322e1d3e9f8e",
   "metadata": {},
   "outputs": [
    {
     "ename": "SyntaxError",
     "evalue": "incomplete input (2164522219.py, line 1)",
     "output_type": "error",
     "traceback": [
      "\u001b[1;36m  Cell \u001b[1;32mIn[123], line 1\u001b[1;36m\u001b[0m\n\u001b[1;33m    if 'Salary' in merged_df.columns:\u001b[0m\n\u001b[1;37m                                     ^\u001b[0m\n\u001b[1;31mSyntaxError\u001b[0m\u001b[1;31m:\u001b[0m incomplete input\n"
     ]
    }
   ],
   "source": [
    "if 'Salary' in merged_df.columns:"
   ]
  },
  {
   "cell_type": "code",
   "execution_count": null,
   "id": "d7082461-2b4e-4a48-a408-923ae0959d4c",
   "metadata": {},
   "outputs": [],
   "source": [
    "Q1 = merged_df['Salary'].quantile(0.25)"
   ]
  },
  {
   "cell_type": "code",
   "execution_count": null,
   "id": "754f46fe-fc0f-4413-9fd8-5733032af130",
   "metadata": {},
   "outputs": [],
   "source": [
    "Q3 = merged_df['Salary'].quantile(0.75)"
   ]
  },
  {
   "cell_type": "code",
   "execution_count": null,
   "id": "f7951f96-4420-41f2-b8fd-f495e9cece69",
   "metadata": {},
   "outputs": [],
   "source": [
    "IQR = Q3 - Q1"
   ]
  },
  {
   "cell_type": "code",
   "execution_count": null,
   "id": "8dd10296-da11-48f5-ba7d-7aab259f41fa",
   "metadata": {},
   "outputs": [],
   "source": [
    "lower_bound =Q1 - 1.5*IQR"
   ]
  },
  {
   "cell_type": "code",
   "execution_count": null,
   "id": "92c62521-4cb3-4d72-871d-144a7863dead",
   "metadata": {},
   "outputs": [],
   "source": [
    "upper_bound = Q3+1.5*IQR"
   ]
  }
 ],
 "metadata": {
  "kernelspec": {
   "display_name": "Python 3 (ipykernel)",
   "language": "python",
   "name": "python3"
  },
  "language_info": {
   "codemirror_mode": {
    "name": "ipython",
    "version": 3
   },
   "file_extension": ".py",
   "mimetype": "text/x-python",
   "name": "python",
   "nbconvert_exporter": "python",
   "pygments_lexer": "ipython3",
   "version": "3.12.4"
  }
 },
 "nbformat": 4,
 "nbformat_minor": 5
}
